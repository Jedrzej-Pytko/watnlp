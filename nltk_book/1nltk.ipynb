{
 "cells": [
  {
   "metadata": {
    "ExecuteTime": {
     "end_time": "2024-12-11T11:58:46.310632Z",
     "start_time": "2024-12-11T11:58:42.684253Z"
    }
   },
   "cell_type": "code",
   "source": "from nltk.book import *",
   "id": "6ca3d03d9a60f7a6",
   "outputs": [
    {
     "name": "stdout",
     "output_type": "stream",
     "text": [
      "*** Introductory Examples for the NLTK Book ***\n",
      "Loading text1, ..., text9 and sent1, ..., sent9\n",
      "Type the name of the text or sentence to view it.\n",
      "Type: 'texts()' or 'sents()' to list the materials.\n",
      "text1: Moby Dick by Herman Melville 1851\n",
      "text2: Sense and Sensibility by Jane Austen 1811\n",
      "text3: The Book of Genesis\n",
      "text4: Inaugural Address Corpus\n",
      "text5: Chat Corpus\n",
      "text6: Monty Python and the Holy Grail\n",
      "text7: Wall Street Journal\n",
      "text8: Personals Corpus\n",
      "text9: The Man Who Was Thursday by G . K . Chesterton 1908\n"
     ]
    }
   ],
   "execution_count": 1
  },
  {
   "metadata": {
    "ExecuteTime": {
     "end_time": "2024-12-11T11:58:46.932741Z",
     "start_time": "2024-12-11T11:58:46.336054Z"
    }
   },
   "cell_type": "code",
   "source": "text2.common_contexts(['very', 'so'])",
   "id": "d72ca8d261713f28",
   "outputs": [
    {
     "name": "stdout",
     "output_type": "stream",
     "text": [
      "was_well am_sure was_much know_well know_little is_pretty was_far\n",
      "is_well it_much him_well be_much am_glad with_little think_highly\n",
      "is_far be_happy me_much she_much ,_long something_droll\n"
     ]
    }
   ],
   "execution_count": 2
  },
  {
   "metadata": {
    "ExecuteTime": {
     "end_time": "2024-12-11T11:58:49.983238Z",
     "start_time": "2024-12-11T11:58:49.457067Z"
    }
   },
   "cell_type": "code",
   "source": "text4.dispersion_plot(['constitution', \"native\", \"liberty\", \"independence\", \"slavery\"])",
   "id": "9dd358d7c8385b15",
   "outputs": [
    {
     "data": {
      "text/plain": [
       "<Figure size 640x480 with 1 Axes>"
      ],
      "image/png": "[encoded data removed]"
     },
     "metadata": {},
     "output_type": "display_data"
    }
   ],
   "execution_count": 3
  },
  {
   "metadata": {
    "ExecuteTime": {
     "end_time": "2024-12-11T11:58:52.165737Z",
     "start_time": "2024-12-11T11:58:50.006352Z"
    }
   },
   "cell_type": "code",
   "source": "text4.generate()",
   "id": "a106a7dafeb76793",
   "outputs": [
    {
     "name": "stderr",
     "output_type": "stream",
     "text": [
      "Building ngram index...\n"
     ]
    },
    {
     "name": "stdout",
     "output_type": "stream",
     "text": [
      "objects , and especially the truth that democratic government has\n",
      "innate capacity to govern its affairs aright through the Province\n",
      "ceded , by any timid forebodings of evil were not to overtake them\n",
      "while I possess the property of the pecuniary estimates for the\n",
      "advancement of civilization . , religion and a reckless disregard of\n",
      "the Argonne , Omaha Beach , Salerno and halfway around the globe , and\n",
      "nothing is more important in the House and the special attention of\n",
      "the Government to interfere with the advice and equipment to free ones\n",
      "; to the public agents intrusted with\n"
     ]
    },
    {
     "data": {
      "text/plain": [
       "'objects , and especially the truth that democratic government has\\ninnate capacity to govern its affairs aright through the Province\\nceded , by any timid forebodings of evil were not to overtake them\\nwhile I possess the property of the pecuniary estimates for the\\nadvancement of civilization . , religion and a reckless disregard of\\nthe Argonne , Omaha Beach , Salerno and halfway around the globe , and\\nnothing is more important in the House and the special attention of\\nthe Government to interfere with the advice and equipment to free ones\\n; to the public agents intrusted with'"
      ]
     },
     "execution_count": 4,
     "metadata": {},
     "output_type": "execute_result"
    }
   ],
   "execution_count": 4
  },
  {
   "metadata": {
    "ExecuteTime": {
     "end_time": "2024-12-11T11:58:52.209803Z",
     "start_time": "2024-12-11T11:58:52.205739Z"
    }
   },
   "cell_type": "code",
   "source": "texts()",
   "id": "daf431c3c623b797",
   "outputs": [
    {
     "name": "stdout",
     "output_type": "stream",
     "text": [
      "text1: Moby Dick by Herman Melville 1851\n",
      "text2: Sense and Sensibility by Jane Austen 1811\n",
      "text3: The Book of Genesis\n",
      "text4: Inaugural Address Corpus\n",
      "text5: Chat Corpus\n",
      "text6: Monty Python and the Holy Grail\n",
      "text7: Wall Street Journal\n",
      "text8: Personals Corpus\n",
      "text9: The Man Who Was Thursday by G . K . Chesterton 1908\n"
     ]
    }
   ],
   "execution_count": 5
  },
  {
   "metadata": {
    "ExecuteTime": {
     "end_time": "2024-12-11T11:58:52.267284Z",
     "start_time": "2024-12-11T11:58:52.262376Z"
    }
   },
   "cell_type": "code",
   "source": "len(text1)",
   "id": "d47a5a8f90b462da",
   "outputs": [
    {
     "data": {
      "text/plain": [
       "260819"
      ]
     },
     "execution_count": 6,
     "metadata": {},
     "output_type": "execute_result"
    }
   ],
   "execution_count": 6
  },
  {
   "metadata": {
    "ExecuteTime": {
     "end_time": "2024-12-11T11:58:52.367509Z",
     "start_time": "2024-12-11T11:58:52.324743Z"
    }
   },
   "cell_type": "code",
   "source": "len(set(text1))",
   "id": "2b4f4451f4c19afa",
   "outputs": [
    {
     "data": {
      "text/plain": [
       "19317"
      ]
     },
     "execution_count": 7,
     "metadata": {},
     "output_type": "execute_result"
    }
   ],
   "execution_count": 7
  },
  {
   "metadata": {
    "ExecuteTime": {
     "end_time": "2024-12-11T11:58:52.399909Z",
     "start_time": "2024-12-11T11:58:52.395269Z"
    }
   },
   "cell_type": "code",
   "source": [
    "count = text5.count(\"lol\")\n",
    "tf = count / len(text5)\n",
    "tf * 100"
   ],
   "id": "f049c248f0fd976",
   "outputs": [
    {
     "data": {
      "text/plain": [
       "1.5640968673628082"
      ]
     },
     "execution_count": 8,
     "metadata": {},
     "output_type": "execute_result"
    }
   ],
   "execution_count": 8
  },
  {
   "metadata": {
    "ExecuteTime": {
     "end_time": "2024-12-11T11:58:52.455662Z",
     "start_time": "2024-12-11T11:58:52.453047Z"
    }
   },
   "cell_type": "code",
   "source": [
    "def lexical_diversity(text):\n",
    "    return len(set(text))/len(text)"
   ],
   "id": "194e9a069ef7afba",
   "outputs": [],
   "execution_count": 9
  },
  {
   "metadata": {
    "ExecuteTime": {
     "end_time": "2024-12-11T11:58:52.506991Z",
     "start_time": "2024-12-11T11:58:52.504491Z"
    }
   },
   "cell_type": "code",
   "source": "t = ['Hello', 'there', ',', 'Captain', '!']",
   "id": "98ea95228b2e6a07",
   "outputs": [],
   "execution_count": 10
  },
  {
   "metadata": {
    "ExecuteTime": {
     "end_time": "2024-12-11T11:58:52.563275Z",
     "start_time": "2024-12-11T11:58:52.558895Z"
    }
   },
   "cell_type": "code",
   "source": "lexical_diversity(t)",
   "id": "22573791e0e12875",
   "outputs": [
    {
     "data": {
      "text/plain": [
       "1.0"
      ]
     },
     "execution_count": 11,
     "metadata": {},
     "output_type": "execute_result"
    }
   ],
   "execution_count": 11
  },
  {
   "metadata": {
    "ExecuteTime": {
     "end_time": "2024-12-11T11:58:52.617999Z",
     "start_time": "2024-12-11T11:58:52.614195Z"
    }
   },
   "cell_type": "code",
   "source": "sent4",
   "id": "e16dd5b0bba810fc",
   "outputs": [
    {
     "data": {
      "text/plain": [
       "['Fellow',\n",
       " '-',\n",
       " 'Citizens',\n",
       " 'of',\n",
       " 'the',\n",
       " 'Senate',\n",
       " 'and',\n",
       " 'of',\n",
       " 'the',\n",
       " 'House',\n",
       " 'of',\n",
       " 'Representatives',\n",
       " ':']"
      ]
     },
     "execution_count": 12,
     "metadata": {},
     "output_type": "execute_result"
    }
   ],
   "execution_count": 12
  },
  {
   "metadata": {
    "ExecuteTime": {
     "end_time": "2024-12-11T11:58:52.674104Z",
     "start_time": "2024-12-11T11:58:52.669519Z"
    }
   },
   "cell_type": "code",
   "source": "text3.index('first')",
   "id": "dc9f99384bf56be9",
   "outputs": [
    {
     "data": {
      "text/plain": [
       "100"
      ]
     },
     "execution_count": 13,
     "metadata": {},
     "output_type": "execute_result"
    }
   ],
   "execution_count": 13
  },
  {
   "metadata": {
    "ExecuteTime": {
     "end_time": "2024-12-11T11:58:52.730873Z",
     "start_time": "2024-12-11T11:58:52.727117Z"
    }
   },
   "cell_type": "code",
   "source": "silly = \"A woeful fate, inevitably, will fall on the great many of people\"",
   "id": "89688efe4de92db4",
   "outputs": [],
   "execution_count": 14
  },
  {
   "metadata": {
    "ExecuteTime": {
     "end_time": "2024-12-11T11:58:52.787714Z",
     "start_time": "2024-12-11T11:58:52.781450Z"
    }
   },
   "cell_type": "code",
   "source": "silly.split()",
   "id": "e8872ca853c73a74",
   "outputs": [
    {
     "data": {
      "text/plain": [
       "['A',\n",
       " 'woeful',\n",
       " 'fate,',\n",
       " 'inevitably,',\n",
       " 'will',\n",
       " 'fall',\n",
       " 'on',\n",
       " 'the',\n",
       " 'great',\n",
       " 'many',\n",
       " 'of',\n",
       " 'people']"
      ]
     },
     "execution_count": 15,
     "metadata": {},
     "output_type": "execute_result"
    }
   ],
   "execution_count": 15
  },
  {
   "metadata": {
    "ExecuteTime": {
     "end_time": "2024-12-11T11:58:52.880034Z",
     "start_time": "2024-12-11T11:58:52.838521Z"
    }
   },
   "cell_type": "code",
   "source": "fdist3 = (FreqDist(text3))",
   "id": "d3ef1f48c4914d67",
   "outputs": [],
   "execution_count": 16
  },
  {
   "metadata": {
    "ExecuteTime": {
     "end_time": "2024-12-11T11:58:52.940024Z",
     "start_time": "2024-12-11T11:58:52.931095Z"
    }
   },
   "cell_type": "code",
   "source": "list(filter(lambda n: n[1] not in [1,2], fdist3.most_common()))[-20:]",
   "id": "2c04b45eaf057942",
   "outputs": [
    {
     "data": {
      "text/plain": [
       "[('Yet', 3),\n",
       " ('interpreted', 3),\n",
       " ('leanfleshed', 3),\n",
       " ('blasted', 3),\n",
       " ('throughout', 3),\n",
       " ('Egy', 3),\n",
       " ('part', 3),\n",
       " ('ruler', 3),\n",
       " ('Asenath', 3),\n",
       " ('Potipherah', 3),\n",
       " ('sa', 3),\n",
       " ('mischief', 3),\n",
       " ('households', 3),\n",
       " ('bereaved', 3),\n",
       " ('gray', 3),\n",
       " ('hairs', 3),\n",
       " ('best', 3),\n",
       " ('washed', 3),\n",
       " ('priests', 3),\n",
       " ('lion', 3)]"
      ]
     },
     "execution_count": 17,
     "metadata": {},
     "output_type": "execute_result"
    }
   ],
   "execution_count": 17
  },
  {
   "metadata": {
    "ExecuteTime": {
     "end_time": "2024-12-11T11:58:53.306746Z",
     "start_time": "2024-12-11T11:58:52.995792Z"
    }
   },
   "cell_type": "code",
   "source": "fdist3.plot(50, cumulative=True, percents=True)",
   "id": "25a6ca5752ea1367",
   "outputs": [
    {
     "data": {
      "text/plain": [
       "<Axes: xlabel='Samples', ylabel='Cumulative Percents'>"
      ]
     },
     "execution_count": 18,
     "metadata": {},
     "output_type": "execute_result"
    },
    {
     "data": {
      "text/plain": [
       "<Figure size 640x480 with 1 Axes>"
      ],
      "image/png": "[encoded data removed]"
     },
     "metadata": {},
     "output_type": "display_data"
    }
   ],
   "execution_count": 18
  },
  {
   "metadata": {
    "ExecuteTime": {
     "end_time": "2024-12-11T11:58:53.355790Z",
     "start_time": "2024-12-11T11:58:53.337206Z"
    }
   },
   "cell_type": "code",
   "source": "fdist3.hapaxes()",
   "id": "3ccba9e741d7360b",
   "outputs": [
    {
     "data": {
      "text/plain": [
       "['form',\n",
       " 'void',\n",
       " 'Day',\n",
       " 'Night',\n",
       " 'firmame',\n",
       " 'Heaven',\n",
       " 'appe',\n",
       " 'Earth',\n",
       " 'signs',\n",
       " 'seasons',\n",
       " 'lesser',\n",
       " 'nig',\n",
       " 'darkne',\n",
       " 'fly',\n",
       " 'whales',\n",
       " 'winged',\n",
       " 'seas',\n",
       " 'likene',\n",
       " 'subdue',\n",
       " 'finished',\n",
       " 'sanctified',\n",
       " 'plant',\n",
       " 'gr',\n",
       " 'mist',\n",
       " 'breathed',\n",
       " 'parted',\n",
       " 'Pison',\n",
       " 'bdellium',\n",
       " 'onyx',\n",
       " 'Gihon',\n",
       " 'Ethiopia',\n",
       " 'Hiddekel',\n",
       " 'Assyria',\n",
       " 'Euphrates',\n",
       " 'freely',\n",
       " 'eatest',\n",
       " 'sle',\n",
       " 'ribs',\n",
       " 'rib',\n",
       " 'Woman',\n",
       " 'Man',\n",
       " 'cleave',\n",
       " 'ashamed',\n",
       " 'subtil',\n",
       " 'gard',\n",
       " 'knowing',\n",
       " 'desired',\n",
       " 'sewed',\n",
       " 'fig',\n",
       " 'leaves',\n",
       " 'aprons',\n",
       " 'walking',\n",
       " 'cool',\n",
       " 'whereof',\n",
       " 'gavest',\n",
       " 'belly',\n",
       " 'enmity',\n",
       " 'conception',\n",
       " 'Thorns',\n",
       " 'thistles',\n",
       " 'sweat',\n",
       " 'tak',\n",
       " 'coats',\n",
       " 'clothed',\n",
       " 'Cherubims',\n",
       " 'flaming',\n",
       " 'tiller',\n",
       " 'firstlings',\n",
       " 'fallen',\n",
       " 'crieth',\n",
       " 'tillest',\n",
       " 'henceforth',\n",
       " 'punishment',\n",
       " 'driven',\n",
       " 'findeth',\n",
       " 'whosoever',\n",
       " 'slayeth',\n",
       " 'vengeance',\n",
       " 'mark',\n",
       " 'finding',\n",
       " 'Nod',\n",
       " 'Methusa',\n",
       " 'Methusael',\n",
       " 'Jabal',\n",
       " 'Jubal',\n",
       " 'handle',\n",
       " 'organ',\n",
       " 'instructor',\n",
       " 'artificer',\n",
       " 'brass',\n",
       " 'ir',\n",
       " 'Naamah',\n",
       " 'spee',\n",
       " 'wounding',\n",
       " 'avenged',\n",
       " 'En',\n",
       " 'book',\n",
       " 'Male',\n",
       " 'begotten',\n",
       " 'Eno',\n",
       " 'always',\n",
       " 'giants',\n",
       " 'renown',\n",
       " 'thoughts',\n",
       " 'repented',\n",
       " 'repenteth',\n",
       " 'just',\n",
       " 'corrupted',\n",
       " 'gopher',\n",
       " 'rooms',\n",
       " 'fashion',\n",
       " 'height',\n",
       " 'cubit',\n",
       " 'finish',\n",
       " 'lower',\n",
       " 'stories',\n",
       " 'fema',\n",
       " 'cause',\n",
       " 'bird',\n",
       " 'hills',\n",
       " 'Fifteen',\n",
       " 'upward',\n",
       " 'asswaged',\n",
       " 'Ararat',\n",
       " 'decreased',\n",
       " 'tops',\n",
       " 'ma',\n",
       " 'raven',\n",
       " 'fro',\n",
       " 'sole',\n",
       " 'olive',\n",
       " 'leaf',\n",
       " 'pluckt',\n",
       " 'twentieth',\n",
       " 'breed',\n",
       " 'kinds',\n",
       " 'offerings',\n",
       " 'sweet',\n",
       " 'savour',\n",
       " 'While',\n",
       " 'remaineth',\n",
       " 'seedtime',\n",
       " 'cold',\n",
       " 'summer',\n",
       " 'winter',\n",
       " 'cease',\n",
       " 'dread',\n",
       " 'fishes',\n",
       " 'liveth',\n",
       " 'Whoso',\n",
       " 'sheddeth',\n",
       " 'shed',\n",
       " 'perpetual',\n",
       " 'clo',\n",
       " 'overspread',\n",
       " 'husbandman',\n",
       " 'vineyard',\n",
       " 'drunken',\n",
       " 'uncovered',\n",
       " 'shoulders',\n",
       " 'enlarge',\n",
       " 'Magog',\n",
       " 'Madai',\n",
       " 'Tubal',\n",
       " 'Meshech',\n",
       " 'Tiras',\n",
       " 'Ashkenaz',\n",
       " 'Riphath',\n",
       " 'Togarmah',\n",
       " 'Elishah',\n",
       " 'Tarshish',\n",
       " 'Kittim',\n",
       " 'Dodanim',\n",
       " 'isles',\n",
       " 'Gentiles',\n",
       " 'tongue',\n",
       " 'Phut',\n",
       " 'Seba',\n",
       " 'Sabtah',\n",
       " 'Sabtech',\n",
       " 'Erech',\n",
       " 'Accad',\n",
       " 'Calneh',\n",
       " 'Resen',\n",
       " 'Ludim',\n",
       " 'Anamim',\n",
       " 'Lehabim',\n",
       " 'Naphtuhim',\n",
       " 'Pathrusim',\n",
       " 'Casluhim',\n",
       " 'Philistim',\n",
       " ',)',\n",
       " 'Caphtorim',\n",
       " 'Jebusite',\n",
       " 'Girgasite',\n",
       " 'Arkite',\n",
       " 'Sinite',\n",
       " 'Arvadite',\n",
       " 'Zemarite',\n",
       " 'Hamathite',\n",
       " 'Gaza',\n",
       " 'Zeboim',\n",
       " 'Lasha',\n",
       " 'Lud',\n",
       " 'Hul',\n",
       " 'Gether',\n",
       " 'Mash',\n",
       " 'Almodad',\n",
       " 'Sheleph',\n",
       " 'Hazarmaveth',\n",
       " 'Jerah',\n",
       " 'Hadoram',\n",
       " 'Uzal',\n",
       " 'Diklah',\n",
       " 'Obal',\n",
       " 'Abimael',\n",
       " 'Ophir',\n",
       " 'Mesha',\n",
       " 'Sephar',\n",
       " 'natio',\n",
       " 'thoroughly',\n",
       " 'slime',\n",
       " 'morter',\n",
       " 'reach',\n",
       " 'begin',\n",
       " 'imagined',\n",
       " 'flo',\n",
       " 'nineteen',\n",
       " 'nativity',\n",
       " 'Iscah',\n",
       " 'blessi',\n",
       " 'Sichem',\n",
       " 'Moreh',\n",
       " 'having',\n",
       " 'enter',\n",
       " 'commended',\n",
       " 'entreated',\n",
       " 'plagued',\n",
       " 'plagues',\n",
       " 'rich',\n",
       " 'journeys',\n",
       " 'fir',\n",
       " 'Perizzite',\n",
       " 'sinners',\n",
       " 'northward',\n",
       " 'southward',\n",
       " 'westwa',\n",
       " 'war',\n",
       " 'Bera',\n",
       " 'Birsha',\n",
       " 'Shinab',\n",
       " 'Shemeber',\n",
       " 'Twelve',\n",
       " 'thirteenth',\n",
       " 'rebelled',\n",
       " 'fourteenth',\n",
       " 'Ashteroth',\n",
       " 'Karnaim',\n",
       " 'Zuzims',\n",
       " 'Emins',\n",
       " 'Kiriathaim',\n",
       " 'Elparan',\n",
       " 'Enmishpat',\n",
       " 'Amalekites',\n",
       " 'Hazezontamar',\n",
       " ';)',\n",
       " 'battle',\n",
       " 'slimepits',\n",
       " 'victuals',\n",
       " 'escaped',\n",
       " 'An',\n",
       " 'confederate',\n",
       " 'armed',\n",
       " 'trained',\n",
       " 'eighteen',\n",
       " 'Hobah',\n",
       " 'slaughter',\n",
       " 'dale',\n",
       " 'Melchizedek',\n",
       " 'Salem',\n",
       " 'tithes',\n",
       " 'shoelatchet',\n",
       " 'ri',\n",
       " 'Save',\n",
       " 'Aner',\n",
       " 'vision',\n",
       " 'Abr',\n",
       " 'shield',\n",
       " 'reward',\n",
       " 'childless',\n",
       " 'Eliezer',\n",
       " 'Look',\n",
       " 'heifer',\n",
       " 'goat',\n",
       " 'turtledove',\n",
       " 'pigeon',\n",
       " 'piece',\n",
       " 'carcases',\n",
       " 'horror',\n",
       " 'dark',\n",
       " 'smoking',\n",
       " 'burning',\n",
       " 'lamp',\n",
       " 'Euphrat',\n",
       " 'Kenites',\n",
       " 'Kenizzites',\n",
       " 'Kadmonites',\n",
       " 'Hittites',\n",
       " 'Perizzites',\n",
       " 'Girgashites',\n",
       " 'Jebusites',\n",
       " 'beari',\n",
       " 'obtain',\n",
       " 'wrong',\n",
       " 'bosom',\n",
       " 'hardly',\n",
       " 'submit',\n",
       " 'wild',\n",
       " 'Beerlahairoi',\n",
       " 'Bered',\n",
       " 'Neither',\n",
       " 'circumcise',\n",
       " 'circumcis',\n",
       " 'beget',\n",
       " 'next',\n",
       " 'talking',\n",
       " 'thirteen',\n",
       " 'plains',\n",
       " 'tr',\n",
       " 'morsel',\n",
       " 'hearts',\n",
       " 'measures',\n",
       " 'meal',\n",
       " 'knead',\n",
       " 'cakes',\n",
       " 'hearth',\n",
       " 'herd',\n",
       " 'fetcht',\n",
       " 'butter',\n",
       " 'dressed',\n",
       " 'ceased',\n",
       " 'pleasure',\n",
       " 'too',\n",
       " 'At',\n",
       " 'denied',\n",
       " 'Seeing',\n",
       " 'justice',\n",
       " 'judgment',\n",
       " 'altogether',\n",
       " 'wick',\n",
       " 'Judge',\n",
       " 'sakes',\n",
       " 'ash',\n",
       " 'spe',\n",
       " 'communing',\n",
       " 'lords',\n",
       " 'ways',\n",
       " 'street',\n",
       " 'bake',\n",
       " 'unleavened',\n",
       " 'compassed',\n",
       " 'quart',\n",
       " 'wickedly',\n",
       " 'shadow',\n",
       " 'roof',\n",
       " 'Stand',\n",
       " 'fellow',\n",
       " 'jud',\n",
       " 'worse',\n",
       " 'blindness',\n",
       " 'wearied',\n",
       " 'waxen',\n",
       " 'married',\n",
       " 'mocked',\n",
       " 'merciful',\n",
       " 'Escape',\n",
       " 'stay',\n",
       " 'magnified',\n",
       " 'saving',\n",
       " '?)',\n",
       " 'anything',\n",
       " 'risen',\n",
       " 'rained',\n",
       " 'brimstone',\n",
       " 'gat',\n",
       " 'Zo',\n",
       " 'Our',\n",
       " 'morrow',\n",
       " 'Moabites',\n",
       " 'Benam',\n",
       " 'Ammon',\n",
       " 'Said',\n",
       " 'innocency',\n",
       " 'sinning',\n",
       " 'prophet',\n",
       " 'deeds',\n",
       " 'sawest',\n",
       " 'wander',\n",
       " 'thousand',\n",
       " 'oth',\n",
       " 'prayed',\n",
       " 'healed',\n",
       " 'fast',\n",
       " 'wombs',\n",
       " 'visited',\n",
       " 'suck',\n",
       " 'mocking',\n",
       " 'Cast',\n",
       " 'putting',\n",
       " 'wandered',\n",
       " 'shrubs',\n",
       " 'sh',\n",
       " 'aileth',\n",
       " 'archer',\n",
       " 'Paran',\n",
       " 'doe',\n",
       " 'falsely',\n",
       " 'violently',\n",
       " 'mean',\n",
       " 'grove',\n",
       " 'tempt',\n",
       " 'lovest',\n",
       " 'Moriah',\n",
       " 'offer',\n",
       " 'saddled',\n",
       " 'Abide',\n",
       " 'yonder',\n",
       " 'worship',\n",
       " 'order',\n",
       " 'Lay',\n",
       " 'fearest',\n",
       " 'thicket',\n",
       " 'hor',\n",
       " 'Jehovahjireh',\n",
       " 'sworn',\n",
       " 'multiplying',\n",
       " 'shore',\n",
       " 'Huz',\n",
       " 'Buz',\n",
       " 'Kemuel',\n",
       " 'Chesed',\n",
       " 'Hazo',\n",
       " 'Pildash',\n",
       " 'Jidlaph',\n",
       " 'Reumah',\n",
       " 'Tebah',\n",
       " 'Gaham',\n",
       " 'Thahash',\n",
       " 'Maachah',\n",
       " 'Kirjatharba',\n",
       " 'mourn',\n",
       " 'sojourner',\n",
       " 'sepulchres',\n",
       " 'withhold',\n",
       " 'sepulchre',\n",
       " 'intreat',\n",
       " 'weighed',\n",
       " 'current',\n",
       " 'merchant',\n",
       " 'Mam',\n",
       " 'ruled',\n",
       " 'Beware',\n",
       " 'oa',\n",
       " 'Mesopotamia',\n",
       " 'kneel',\n",
       " 'speed',\n",
       " 'thereby',\n",
       " 'giving',\n",
       " 'trough',\n",
       " 'wondering',\n",
       " 'wit',\n",
       " 'golden',\n",
       " 'half',\n",
       " 'shekel',\n",
       " 'destitute',\n",
       " 'tru',\n",
       " 'standest',\n",
       " 'ungirded',\n",
       " 'errand',\n",
       " 'Speak',\n",
       " 'Both',\n",
       " 'proceedeth',\n",
       " 'bowing',\n",
       " 'Rebek',\n",
       " 'precious',\n",
       " 'Hinder',\n",
       " 'prospered',\n",
       " 'thousands',\n",
       " 'millions',\n",
       " 'damsels',\n",
       " 'rode',\n",
       " 'meditate',\n",
       " 'eventide',\n",
       " 'coming',\n",
       " 'walketh',\n",
       " 'mast',\n",
       " 'Zimran',\n",
       " 'Medan',\n",
       " 'Ishbak',\n",
       " 'Asshurim',\n",
       " 'Letushim',\n",
       " 'Leummim',\n",
       " 'Ephah',\n",
       " 'Epher',\n",
       " 'Abidah',\n",
       " 'Eldaah',\n",
       " 'concubines',\n",
       " 'gifts',\n",
       " 'purchased',\n",
       " 'Kedar',\n",
       " 'Adbeel',\n",
       " 'Mibsam',\n",
       " 'Mishma',\n",
       " 'Dumah',\n",
       " 'Massa',\n",
       " 'Tema',\n",
       " 'Jetur',\n",
       " 'Naphish',\n",
       " 'Kedemah',\n",
       " 'towns',\n",
       " 'castles',\n",
       " 'Assyr',\n",
       " 'barr',\n",
       " 'struggled',\n",
       " 'boys',\n",
       " 'cunning',\n",
       " 'sod',\n",
       " 'Feed',\n",
       " 'Sell',\n",
       " 'point',\n",
       " 'lentiles',\n",
       " 'Sojourn',\n",
       " 'perform',\n",
       " 'commandments',\n",
       " 'statutes',\n",
       " 'laws',\n",
       " 'sporting',\n",
       " 'lightly',\n",
       " 'lien',\n",
       " 'guiltiness',\n",
       " 'toucheth',\n",
       " 'sowed',\n",
       " 'received',\n",
       " 'hundredfo',\n",
       " 'forward',\n",
       " 'mightier',\n",
       " 'springing',\n",
       " 'ou',\n",
       " 'Esek',\n",
       " 'Sitnah',\n",
       " 'Ahuzzath',\n",
       " 'friends',\n",
       " 'army',\n",
       " 'pea',\n",
       " 'betimes',\n",
       " 'Shebah',\n",
       " 'Judith',\n",
       " 'Beeri',\n",
       " 'Hitti',\n",
       " 'Which',\n",
       " 'grief',\n",
       " 'dea',\n",
       " 'weapons',\n",
       " 'quiver',\n",
       " 'hunt',\n",
       " 'seem',\n",
       " 'deceiver',\n",
       " 'Upon',\n",
       " 'ne',\n",
       " 'badest',\n",
       " 'sit',\n",
       " 'felt',\n",
       " 'discerned',\n",
       " 'han',\n",
       " 'Art',\n",
       " 'wi',\n",
       " 'blesseth',\n",
       " 'scarce',\n",
       " 'hunting',\n",
       " 'trembled',\n",
       " 'bitter',\n",
       " 'Bless',\n",
       " 'subtilty',\n",
       " 'rightly',\n",
       " 'supplanted',\n",
       " 'tim',\n",
       " 'reserved',\n",
       " 'sustained',\n",
       " 'yoke',\n",
       " 'wherewith',\n",
       " 'touching',\n",
       " 'purposing',\n",
       " 'fury',\n",
       " 'Until',\n",
       " 'deprived',\n",
       " 'weary',\n",
       " 'Mahalath',\n",
       " 'ladder',\n",
       " 'reached',\n",
       " 'heav',\n",
       " 'ascending',\n",
       " 'descending',\n",
       " 'whereon',\n",
       " 'liest',\n",
       " 'north',\n",
       " 'awaked',\n",
       " 'dreadful',\n",
       " 'vowed',\n",
       " 'floc',\n",
       " 'roll',\n",
       " 'tidings',\n",
       " 'nought',\n",
       " 'eyed',\n",
       " 'beautiful',\n",
       " 'better',\n",
       " 'Fulfil',\n",
       " 'Reub',\n",
       " 'judged',\n",
       " 'wrestlings',\n",
       " 'Happy',\n",
       " 'wheat',\n",
       " 'hired',\n",
       " 'maiden',\n",
       " 'husba',\n",
       " 'endued',\n",
       " 'afterwards',\n",
       " 'reproa',\n",
       " 'add',\n",
       " 'tar',\n",
       " 'learned',\n",
       " 'experience',\n",
       " 'Appoint',\n",
       " 'comi',\n",
       " 'removing',\n",
       " 'goa',\n",
       " 'poplar',\n",
       " 'hazel',\n",
       " 'chesnut',\n",
       " 'strakes',\n",
       " 'appear',\n",
       " 'watering',\n",
       " 'troughs',\n",
       " 'whensoever',\n",
       " 'feeble',\n",
       " 'feebler',\n",
       " 'deceived',\n",
       " 'speckl',\n",
       " 'leaped',\n",
       " 'grisled',\n",
       " 'leap',\n",
       " 'grisl',\n",
       " 'doeth',\n",
       " 'anointedst',\n",
       " 'vowedst',\n",
       " 'Are',\n",
       " 'quite',\n",
       " 'ours',\n",
       " 'getting',\n",
       " 'stole',\n",
       " 'mou',\n",
       " 'captives',\n",
       " 'secretly',\n",
       " 'mirth',\n",
       " 'songs',\n",
       " 'tabret',\n",
       " 'foolishly',\n",
       " 'longedst',\n",
       " 'force',\n",
       " 'findest',\n",
       " 'discern',\n",
       " 'furniture',\n",
       " 'displease',\n",
       " 'custom',\n",
       " 'chode',\n",
       " 'hotly',\n",
       " 'Whereas',\n",
       " 'loss',\n",
       " 'drought',\n",
       " 'frost',\n",
       " 'mi',\n",
       " 'Jegarsahadutha',\n",
       " 'Mizpah',\n",
       " 'watch',\n",
       " 'absent',\n",
       " 'harm',\n",
       " 'sacrifice',\n",
       " 'Mahanaim',\n",
       " 'womenservan',\n",
       " 'distressed',\n",
       " 'worthy',\n",
       " 'mercies',\n",
       " 'Deliver',\n",
       " 'Thirty',\n",
       " 'milch',\n",
       " 'colts',\n",
       " 'bulls',\n",
       " 'foals',\n",
       " 'Pass',\n",
       " 'meeteth',\n",
       " 'asketh',\n",
       " 'droves',\n",
       " 'appease',\n",
       " 'accept',\n",
       " 'ford',\n",
       " 'Jabbok',\n",
       " 'brook',\n",
       " 'breaking',\n",
       " 'joint',\n",
       " 'breaketh',\n",
       " 'Tell',\n",
       " 'ask',\n",
       " 'Peniel',\n",
       " 'preserved',\n",
       " 'Penuel',\n",
       " 'halted',\n",
       " 'hindermost',\n",
       " 'handmaidens',\n",
       " 'meanest',\n",
       " 'urged',\n",
       " 'knoweth',\n",
       " 'overdrive',\n",
       " 'lead',\n",
       " 'softly',\n",
       " 'endure',\n",
       " 'folk',\n",
       " 'needeth',\n",
       " 'booths',\n",
       " 'Shalem',\n",
       " 'parcel',\n",
       " 'erected',\n",
       " 'EleloheIsrael',\n",
       " 'commune',\n",
       " 'wrought',\n",
       " 'folly',\n",
       " 'longeth',\n",
       " 'marriages',\n",
       " 'Ask',\n",
       " 'gift',\n",
       " 'deceitfully',\n",
       " 'reproach',\n",
       " 'deferred',\n",
       " 'delight',\n",
       " 'honourable',\n",
       " 'peaceable',\n",
       " 'large',\n",
       " 'herein',\n",
       " 'boldly',\n",
       " 'males',\n",
       " 'edge',\n",
       " 'wealth',\n",
       " 'stink',\n",
       " 'Perizzit',\n",
       " 'Should',\n",
       " 'fleddest',\n",
       " 'change',\n",
       " 'garmen',\n",
       " 'earrings',\n",
       " 'oak',\n",
       " 'terror',\n",
       " 'pursue',\n",
       " 'Elbethel',\n",
       " 'Deborah',\n",
       " 'beneath',\n",
       " 'Allonbachuth',\n",
       " 'na',\n",
       " 'sto',\n",
       " 'departing',\n",
       " 'Beno',\n",
       " 'Edar',\n",
       " 'concubi',\n",
       " 'twel',\n",
       " 'Zebul',\n",
       " 'Arbah',\n",
       " 'Amal',\n",
       " 'Amalek',\n",
       " 'Kor',\n",
       " 'Horite',\n",
       " 'inhabited',\n",
       " 'Hemam',\n",
       " 'Alvan',\n",
       " 'Manahath',\n",
       " 'Ebal',\n",
       " 'Shepho',\n",
       " 'Onam',\n",
       " 'Ajah',\n",
       " 'mules',\n",
       " 'Hemdan',\n",
       " 'Eshban',\n",
       " 'Ithran',\n",
       " 'Cheran',\n",
       " 'Bilhan',\n",
       " 'Zaavan',\n",
       " 'Akan',\n",
       " 'Aran',\n",
       " 'Beor',\n",
       " 'Dinhabah',\n",
       " 'Bozrah',\n",
       " 'Temani',\n",
       " 'Bedad',\n",
       " 'Avith',\n",
       " 'Masrekah',\n",
       " 'Pau',\n",
       " 'Mehetabel',\n",
       " 'Matred',\n",
       " 'Mezahab',\n",
       " 'Timnah',\n",
       " 'Alvah',\n",
       " 'Jetheth',\n",
       " 'Elah',\n",
       " 'Pinon',\n",
       " 'Mibzar',\n",
       " 'Magdiel',\n",
       " 'Iram',\n",
       " 'possessi',\n",
       " 'feeding',\n",
       " 'wiv',\n",
       " 'report',\n",
       " 'peaceably',\n",
       " 'binding',\n",
       " 'upright',\n",
       " 'Shalt',\n",
       " 'reign',\n",
       " 'moon',\n",
       " 'observed',\n",
       " 'wandering',\n",
       " 'seekest',\n",
       " 'conspired',\n",
       " 'dreamer',\n",
       " 'Some',\n",
       " 'Shed',\n",
       " 'rid',\n",
       " 'stript',\n",
       " 'spicery',\n",
       " 'conceal',\n",
       " 'sell',\n",
       " 'content',\n",
       " 'merchantmen',\n",
       " 'killed',\n",
       " 'dipped',\n",
       " 'fou',\n",
       " 'doubt',\n",
       " 'sackcloth',\n",
       " 'Shel',\n",
       " 'Chezib',\n",
       " 'marry',\n",
       " 'raise',\n",
       " 'spilled',\n",
       " 'Remain',\n",
       " 'gro',\n",
       " 'sheepshearers',\n",
       " 'wrapped',\n",
       " 'grown',\n",
       " '.)',\n",
       " 'widowhood',\n",
       " 'openly',\n",
       " 'shamed',\n",
       " 'months',\n",
       " 'played',\n",
       " 'whoredom',\n",
       " 'chi',\n",
       " 'Discern',\n",
       " 'acknowledged',\n",
       " 'travail',\n",
       " 'breach',\n",
       " 'Zarah',\n",
       " 'person',\n",
       " 'wotteth',\n",
       " 'business',\n",
       " 'loud',\n",
       " 'voi',\n",
       " 'bou',\n",
       " 'doer',\n",
       " 'butlers',\n",
       " 'bakers',\n",
       " 'continued',\n",
       " 'season',\n",
       " 'sad',\n",
       " 'sadly',\n",
       " 'interpretations',\n",
       " 'belong',\n",
       " 'budded',\n",
       " 'blossoms',\n",
       " 'clusters',\n",
       " 'ripe',\n",
       " 'grapes',\n",
       " 'former',\n",
       " 'think',\n",
       " 'mention',\n",
       " 'dungeon',\n",
       " 'uppermost',\n",
       " 'bakemeats',\n",
       " 'hang',\n",
       " 'birthday',\n",
       " 'butlership',\n",
       " 'forgat',\n",
       " 'meadow',\n",
       " 'brink',\n",
       " 'slept',\n",
       " 'faults',\n",
       " 'bak',\n",
       " 'office',\n",
       " 'hastily',\n",
       " 'dunge',\n",
       " 'shaved',\n",
       " 'canst',\n",
       " 'bank',\n",
       " 'riv',\n",
       " 'mead',\n",
       " 'poor',\n",
       " 'badne',\n",
       " 'lean',\n",
       " 'withered',\n",
       " 'declare',\n",
       " 'sheweth',\n",
       " 'forgotten',\n",
       " 'consume',\n",
       " 'following',\n",
       " 'doubled',\n",
       " 'twice',\n",
       " 'shortly',\n",
       " 'appoint',\n",
       " 'perish',\n",
       " 'Can',\n",
       " 'Forasmuch',\n",
       " 'rul',\n",
       " 'throne',\n",
       " 'ring',\n",
       " 'arrayed',\n",
       " 'vestures',\n",
       " 'linen',\n",
       " 'chain',\n",
       " 'ride',\n",
       " 'Bow',\n",
       " 'kn',\n",
       " 'Zaphnathpaaneah',\n",
       " 'handfuls',\n",
       " 'citi',\n",
       " 'numbering',\n",
       " 'plenteousness',\n",
       " 'famished',\n",
       " 'storehouses',\n",
       " 'Whence',\n",
       " 'From',\n",
       " 'spi',\n",
       " 'y',\n",
       " 'pris',\n",
       " 'hous',\n",
       " 'verified',\n",
       " 'verily',\n",
       " 'guilty',\n",
       " 'anguish',\n",
       " 'besought',\n",
       " 'Spake',\n",
       " 'required',\n",
       " 'understood',\n",
       " 'espied',\n",
       " 'befell',\n",
       " 'traffick',\n",
       " 'bundle',\n",
       " 'bundles',\n",
       " 'Me',\n",
       " 'childr',\n",
       " 'Slay',\n",
       " 'alo',\n",
       " 'solemnly',\n",
       " 'protest',\n",
       " 'straitly',\n",
       " 'state',\n",
       " 'tenor',\n",
       " 'wor',\n",
       " 'fruits',\n",
       " 'vessels',\n",
       " 'honey',\n",
       " 'spices',\n",
       " 'nuts',\n",
       " 'almon',\n",
       " 'oversig',\n",
       " 'dine',\n",
       " 'bade',\n",
       " 'occasion',\n",
       " 'sir',\n",
       " 'weig',\n",
       " 'Peace',\n",
       " 'treasure',\n",
       " 'sac',\n",
       " 'welfare',\n",
       " 'health',\n",
       " 'gracious',\n",
       " 'yearn',\n",
       " 'sought',\n",
       " 'chamber',\n",
       " 'refrained',\n",
       " 'Set',\n",
       " 'marvelled',\n",
       " 'messes',\n",
       " 'mess',\n",
       " 'merry',\n",
       " 'Fill',\n",
       " 'overtake',\n",
       " 'rewarded',\n",
       " ...]"
      ]
     },
     "execution_count": 19,
     "metadata": {},
     "output_type": "execute_result"
    }
   ],
   "execution_count": 19
  },
  {
   "metadata": {
    "ExecuteTime": {
     "end_time": "2024-12-11T11:58:53.465929Z",
     "start_time": "2024-12-11T11:58:53.422353Z"
    }
   },
   "cell_type": "code",
   "source": "long_words = sorted([w for w in set(text1) if len(w) > 15])",
   "id": "5138a3379a892056",
   "outputs": [],
   "execution_count": 20
  },
  {
   "metadata": {
    "ExecuteTime": {
     "end_time": "2024-12-11T11:58:53.605716Z",
     "start_time": "2024-12-11T11:58:53.600889Z"
    }
   },
   "cell_type": "code",
   "source": "long_words",
   "id": "dd70e52b931eac80",
   "outputs": [
    {
     "data": {
      "text/plain": [
       "['CIRCUMNAVIGATION',\n",
       " 'Physiognomically',\n",
       " 'apprehensiveness',\n",
       " 'cannibalistically',\n",
       " 'characteristically',\n",
       " 'circumnavigating',\n",
       " 'circumnavigation',\n",
       " 'circumnavigations',\n",
       " 'comprehensiveness',\n",
       " 'hermaphroditical',\n",
       " 'indiscriminately',\n",
       " 'indispensableness',\n",
       " 'irresistibleness',\n",
       " 'physiognomically',\n",
       " 'preternaturalness',\n",
       " 'responsibilities',\n",
       " 'simultaneousness',\n",
       " 'subterraneousness',\n",
       " 'supernaturalness',\n",
       " 'superstitiousness',\n",
       " 'uncomfortableness',\n",
       " 'uncompromisedness',\n",
       " 'undiscriminating',\n",
       " 'uninterpenetratingly']"
      ]
     },
     "execution_count": 21,
     "metadata": {},
     "output_type": "execute_result"
    }
   ],
   "execution_count": 21
  },
  {
   "metadata": {
    "ExecuteTime": {
     "end_time": "2024-12-11T11:58:53.768703Z",
     "start_time": "2024-12-11T11:58:53.727827Z"
    }
   },
   "cell_type": "code",
   "source": [
    "fdist5 = FreqDist(text5)\n",
    "medium_words = sorted([w for w in set(text5) if len(w) > 15 and fdist5[w] > 7])"
   ],
   "id": "697a76683d8c80ef",
   "outputs": [],
   "execution_count": 22
  },
  {
   "metadata": {
    "ExecuteTime": {
     "end_time": "2024-12-11T11:58:53.803701Z",
     "start_time": "2024-12-11T11:58:53.799292Z"
    }
   },
   "cell_type": "code",
   "source": "medium_words",
   "id": "2d49dc96faf6e045",
   "outputs": [
    {
     "data": {
      "text/plain": [
       "['#talkcity_adults']"
      ]
     },
     "execution_count": 23,
     "metadata": {},
     "output_type": "execute_result"
    }
   ],
   "execution_count": 23
  },
  {
   "metadata": {
    "ExecuteTime": {
     "end_time": "2024-12-11T12:01:30.070984Z",
     "start_time": "2024-12-11T12:01:30.066473Z"
    }
   },
   "cell_type": "code",
   "source": [
    "pairs = bigrams(['more', 'is', 'said', 'than', 'done'])\n",
    "list(pairs)"
   ],
   "id": "951eb73e03eedb31",
   "outputs": [
    {
     "data": {
      "text/plain": [
       "[('more', 'is'), ('is', 'said'), ('said', 'than'), ('than', 'done')]"
      ]
     },
     "execution_count": 27,
     "metadata": {},
     "output_type": "execute_result"
    }
   ],
   "execution_count": 27
  },
  {
   "metadata": {
    "ExecuteTime": {
     "end_time": "2024-12-11T12:04:01.122192Z",
     "start_time": "2024-12-11T12:04:01.118114Z"
    }
   },
   "cell_type": "code",
   "source": "text3.collocations()",
   "id": "b7d1654565c37c06",
   "outputs": [
    {
     "data": {
      "text/plain": [
       "<bound method Text.collocations of <Text: The Book of Genesis>>"
      ]
     },
     "execution_count": 36,
     "metadata": {},
     "output_type": "execute_result"
    }
   ],
   "execution_count": 36
  },
  {
   "metadata": {
    "ExecuteTime": {
     "end_time": "2024-12-11T12:14:39.408418Z",
     "start_time": "2024-12-11T12:14:39.384586Z"
    }
   },
   "cell_type": "code",
   "source": "length_dist = FreqDist(map(lambda w: len(w), text3))\n",
   "id": "a8c9c4b1cfc8a3b6",
   "outputs": [],
   "execution_count": 68
  },
  {
   "metadata": {
    "ExecuteTime": {
     "end_time": "2024-12-11T12:21:33.142791Z",
     "start_time": "2024-12-11T12:21:32.980828Z"
    }
   },
   "cell_type": "code",
   "source": "length_dist.plot(marker=\"x\", percents=True)",
   "id": "f42530b015e6e7e2",
   "outputs": [
    {
     "data": {
      "text/plain": [
       "<Axes: xlabel='Samples', ylabel='Percents'>"
      ]
     },
     "execution_count": 70,
     "metadata": {},
     "output_type": "execute_result"
    },
    {
     "data": {
      "text/plain": [
       "<Figure size 640x480 with 1 Axes>"
      ],
      "image/png": "[encoded data removed]"
     },
     "metadata": {},
     "output_type": "display_data"
    }
   ],
   "execution_count": 70
  },
  {
   "metadata": {
    "ExecuteTime": {
     "end_time": "2024-12-11T16:01:51.951327Z",
     "start_time": "2024-12-11T16:01:51.774709Z"
    }
   },
   "cell_type": "code",
   "source": "len(set(w.upper() for w in text3))\n",
   "id": "5f5ce8df78b0f788",
   "outputs": [
    {
     "data": {
      "text/plain": [
       "2628"
      ]
     },
     "execution_count": 75,
     "metadata": {},
     "output_type": "execute_result"
    }
   ],
   "execution_count": 75
  },
  {
   "metadata": {
    "ExecuteTime": {
     "end_time": "2024-12-11T16:03:16.589117Z",
     "start_time": "2024-12-11T16:03:16.584575Z"
    }
   },
   "cell_type": "code",
   "source": "import nltk",
   "id": "8d15fc616a57bb74",
   "outputs": [],
   "execution_count": 80
  },
  {
   "metadata": {
    "ExecuteTime": {
     "end_time": "2024-12-11T16:04:09.448003Z",
     "start_time": "2024-12-11T16:03:32.726372Z"
    }
   },
   "cell_type": "code",
   "source": "nltk.chat.chatbots()\n",
   "id": "be1097d420adcb5c",
   "outputs": [
    {
     "name": "stdout",
     "output_type": "stream",
     "text": [
      "Which chatbot would you like to talk to?\n",
      "  1: Eliza (psycho-babble)\n",
      "  2: Iesha (teen anime junky)\n",
      "  3: Rude (abusive bot)\n",
      "  4: Suntsu (Chinese sayings)\n",
      "  5: Zen (gems of wisdom)\n",
      "Therapist\n",
      "---------\n",
      "Talk to the program by typing in plain English, using normal upper-\n",
      "and lower-case letters and punctuation.  Enter \"quit\" when done.\n",
      "========================================================================\n",
      "Hello.  How are you feeling today?\n",
      "Why do you say that heyo?\n",
      "How do you feel about being welcoming me :)?\n"
     ]
    },
    {
     "ename": "KeyboardInterrupt",
     "evalue": "Interrupted by user",
     "output_type": "error",
     "traceback": [
      "\u001B[0;31m---------------------------------------------------------------------------\u001B[0m",
      "\u001B[0;31mKeyboardInterrupt\u001B[0m                         Traceback (most recent call last)",
      "Cell \u001B[0;32mIn[81], line 1\u001B[0m\n\u001B[0;32m----> 1\u001B[0m \u001B[43mnltk\u001B[49m\u001B[38;5;241;43m.\u001B[39;49m\u001B[43mchat\u001B[49m\u001B[38;5;241;43m.\u001B[39;49m\u001B[43mchatbots\u001B[49m\u001B[43m(\u001B[49m\u001B[43m)\u001B[49m\n",
      "File \u001B[0;32m~/projects/nlp_course/.venv/lib/python3.10/site-packages/nltk/chat/__init__.py:48\u001B[0m, in \u001B[0;36mchatbots\u001B[0;34m()\u001B[0m\n\u001B[1;32m     45\u001B[0m         \u001B[38;5;28mprint\u001B[39m(\u001B[38;5;124m\"\u001B[39m\u001B[38;5;124m   Error: bad chatbot number\u001B[39m\u001B[38;5;124m\"\u001B[39m)\n\u001B[1;32m     47\u001B[0m chatbot \u001B[38;5;241m=\u001B[39m bots[\u001B[38;5;28mint\u001B[39m(choice) \u001B[38;5;241m-\u001B[39m \u001B[38;5;241m1\u001B[39m][\u001B[38;5;241m0\u001B[39m]\n\u001B[0;32m---> 48\u001B[0m \u001B[43mchatbot\u001B[49m\u001B[43m(\u001B[49m\u001B[43m)\u001B[49m\n",
      "File \u001B[0;32m~/projects/nlp_course/.venv/lib/python3.10/site-packages/nltk/chat/eliza.py:329\u001B[0m, in \u001B[0;36meliza_chat\u001B[0;34m()\u001B[0m\n\u001B[1;32m    326\u001B[0m \u001B[38;5;28mprint\u001B[39m(\u001B[38;5;124m\"\u001B[39m\u001B[38;5;124m=\u001B[39m\u001B[38;5;124m\"\u001B[39m \u001B[38;5;241m*\u001B[39m \u001B[38;5;241m72\u001B[39m)\n\u001B[1;32m    327\u001B[0m \u001B[38;5;28mprint\u001B[39m(\u001B[38;5;124m\"\u001B[39m\u001B[38;5;124mHello.  How are you feeling today?\u001B[39m\u001B[38;5;124m\"\u001B[39m)\n\u001B[0;32m--> 329\u001B[0m \u001B[43meliza_chatbot\u001B[49m\u001B[38;5;241;43m.\u001B[39;49m\u001B[43mconverse\u001B[49m\u001B[43m(\u001B[49m\u001B[43m)\u001B[49m\n",
      "File \u001B[0;32m~/projects/nlp_course/.venv/lib/python3.10/site-packages/nltk/chat/util.py:118\u001B[0m, in \u001B[0;36mChat.converse\u001B[0;34m(self, quit)\u001B[0m\n\u001B[1;32m    116\u001B[0m user_input \u001B[38;5;241m=\u001B[39m quit\n\u001B[1;32m    117\u001B[0m \u001B[38;5;28;01mtry\u001B[39;00m:\n\u001B[0;32m--> 118\u001B[0m     user_input \u001B[38;5;241m=\u001B[39m \u001B[38;5;28;43minput\u001B[39;49m\u001B[43m(\u001B[49m\u001B[38;5;124;43m\"\u001B[39;49m\u001B[38;5;124;43m>\u001B[39;49m\u001B[38;5;124;43m\"\u001B[39;49m\u001B[43m)\u001B[49m\n\u001B[1;32m    119\u001B[0m \u001B[38;5;28;01mexcept\u001B[39;00m \u001B[38;5;167;01mEOFError\u001B[39;00m:\n\u001B[1;32m    120\u001B[0m     \u001B[38;5;28mprint\u001B[39m(user_input)\n",
      "File \u001B[0;32m~/projects/nlp_course/.venv/lib/python3.10/site-packages/ipykernel/kernelbase.py:1282\u001B[0m, in \u001B[0;36mKernel.raw_input\u001B[0;34m(self, prompt)\u001B[0m\n\u001B[1;32m   1280\u001B[0m     msg \u001B[38;5;241m=\u001B[39m \u001B[38;5;124m\"\u001B[39m\u001B[38;5;124mraw_input was called, but this frontend does not support input requests.\u001B[39m\u001B[38;5;124m\"\u001B[39m\n\u001B[1;32m   1281\u001B[0m     \u001B[38;5;28;01mraise\u001B[39;00m StdinNotImplementedError(msg)\n\u001B[0;32m-> 1282\u001B[0m \u001B[38;5;28;01mreturn\u001B[39;00m \u001B[38;5;28;43mself\u001B[39;49m\u001B[38;5;241;43m.\u001B[39;49m\u001B[43m_input_request\u001B[49m\u001B[43m(\u001B[49m\n\u001B[1;32m   1283\u001B[0m \u001B[43m    \u001B[49m\u001B[38;5;28;43mstr\u001B[39;49m\u001B[43m(\u001B[49m\u001B[43mprompt\u001B[49m\u001B[43m)\u001B[49m\u001B[43m,\u001B[49m\n\u001B[1;32m   1284\u001B[0m \u001B[43m    \u001B[49m\u001B[38;5;28;43mself\u001B[39;49m\u001B[38;5;241;43m.\u001B[39;49m\u001B[43m_parent_ident\u001B[49m\u001B[43m[\u001B[49m\u001B[38;5;124;43m\"\u001B[39;49m\u001B[38;5;124;43mshell\u001B[39;49m\u001B[38;5;124;43m\"\u001B[39;49m\u001B[43m]\u001B[49m\u001B[43m,\u001B[49m\n\u001B[1;32m   1285\u001B[0m \u001B[43m    \u001B[49m\u001B[38;5;28;43mself\u001B[39;49m\u001B[38;5;241;43m.\u001B[39;49m\u001B[43mget_parent\u001B[49m\u001B[43m(\u001B[49m\u001B[38;5;124;43m\"\u001B[39;49m\u001B[38;5;124;43mshell\u001B[39;49m\u001B[38;5;124;43m\"\u001B[39;49m\u001B[43m)\u001B[49m\u001B[43m,\u001B[49m\n\u001B[1;32m   1286\u001B[0m \u001B[43m    \u001B[49m\u001B[43mpassword\u001B[49m\u001B[38;5;241;43m=\u001B[39;49m\u001B[38;5;28;43;01mFalse\u001B[39;49;00m\u001B[43m,\u001B[49m\n\u001B[1;32m   1287\u001B[0m \u001B[43m\u001B[49m\u001B[43m)\u001B[49m\n",
      "File \u001B[0;32m~/projects/nlp_course/.venv/lib/python3.10/site-packages/ipykernel/kernelbase.py:1325\u001B[0m, in \u001B[0;36mKernel._input_request\u001B[0;34m(self, prompt, ident, parent, password)\u001B[0m\n\u001B[1;32m   1322\u001B[0m \u001B[38;5;28;01mexcept\u001B[39;00m \u001B[38;5;167;01mKeyboardInterrupt\u001B[39;00m:\n\u001B[1;32m   1323\u001B[0m     \u001B[38;5;66;03m# re-raise KeyboardInterrupt, to truncate traceback\u001B[39;00m\n\u001B[1;32m   1324\u001B[0m     msg \u001B[38;5;241m=\u001B[39m \u001B[38;5;124m\"\u001B[39m\u001B[38;5;124mInterrupted by user\u001B[39m\u001B[38;5;124m\"\u001B[39m\n\u001B[0;32m-> 1325\u001B[0m     \u001B[38;5;28;01mraise\u001B[39;00m \u001B[38;5;167;01mKeyboardInterrupt\u001B[39;00m(msg) \u001B[38;5;28;01mfrom\u001B[39;00m \u001B[38;5;28;01mNone\u001B[39;00m\n\u001B[1;32m   1326\u001B[0m \u001B[38;5;28;01mexcept\u001B[39;00m \u001B[38;5;167;01mException\u001B[39;00m:\n\u001B[1;32m   1327\u001B[0m     \u001B[38;5;28mself\u001B[39m\u001B[38;5;241m.\u001B[39mlog\u001B[38;5;241m.\u001B[39mwarning(\u001B[38;5;124m\"\u001B[39m\u001B[38;5;124mInvalid Message:\u001B[39m\u001B[38;5;124m\"\u001B[39m, exc_info\u001B[38;5;241m=\u001B[39m\u001B[38;5;28;01mTrue\u001B[39;00m)\n",
      "\u001B[0;31mKeyboardInterrupt\u001B[0m: Interrupted by user"
     ]
    }
   ],
   "execution_count": 81
  },
  {
   "metadata": {},
   "cell_type": "code",
   "outputs": [],
   "execution_count": null,
   "source": "",
   "id": "28bd04caa9bf428"
  }
 ],
 "metadata": {
  "kernelspec": {
   "name": "python3",
   "language": "python",
   "display_name": "Python 3 (ipykernel)"
  }
 },
 "nbformat": 5,
 "nbformat_minor": 9
}
